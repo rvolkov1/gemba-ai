{
 "cells": [
  {
   "cell_type": "code",
   "execution_count": 10,
   "id": "8f671e52",
   "metadata": {},
   "outputs": [],
   "source": [
    "import dotenv\n",
    "\n",
    "dotenv.load_dotenv(\".env\")\n",
    "\n",
    "roboflow_key = dotenv.dotenv_values(\".env\")[\"ROBOFLOW_API_KEY\"]"
   ]
  },
  {
   "cell_type": "code",
   "execution_count": 16,
   "id": "0cbbbc0f",
   "metadata": {},
   "outputs": [
    {
     "name": "stdout",
     "output_type": "stream",
     "text": [
      "Ultralytics 8.3.199 🚀 Python-3.11.13 torch-2.8.0 CPU (Apple M1)\n",
      "YOLOe-11l-seg summary (fused): 227 layers, 35,117,862 parameters, 0 gradients, 134.1 GFLOPs\n",
      "\n",
      "\u001b[34m\u001b[1mPyTorch:\u001b[0m starting from 'yoloe-11l-seg.pt' with input shape (1, 3, 640, 640) BCHW and output shape(s) ((1, 39, 8400), (1, 32, 160, 160)) (67.7 MB)\n",
      "\n",
      "\u001b[34m\u001b[1mONNX:\u001b[0m starting export with onnx 1.19.0 opset 19...\n",
      "\u001b[34m\u001b[1mONNX:\u001b[0m slimming with onnxslim 0.1.68...\n",
      "\u001b[34m\u001b[1mONNX:\u001b[0m export success ✅ 4.0s, saved as 'yoloe-11l-seg.onnx' (105.6 MB)\n",
      "\n",
      "Export complete (6.1s)\n",
      "Results saved to \u001b[1m/Users/rvolkov/Documents/projects/ppe_vision\u001b[0m\n",
      "Predict:         yolo predict task=segment model=yoloe-11l-seg.onnx imgsz=640  \n",
      "Validate:        yolo val task=segment model=yoloe-11l-seg.onnx imgsz=640 data={'train': {'yolo_data': ['Objects365v1.yaml'], 'grounding_data': [{'img_path': '../datasets/flickr/full_images/', 'json_file': '../datasets/flickr/annotations/final_flickr_separateGT_train_segm.json'}, {'img_path': '../datasets/mixed_grounding/gqa/images', 'json_file': '../datasets/mixed_grounding/annotations/final_mixed_train_no_coco_segm.json'}]}, 'val': {'yolo_data': ['lvis.yaml']}}  \n",
      "Visualize:       https://netron.app\n"
     ]
    }
   ],
   "source": [
    "from ultralytics import YOLOE\n",
    "\n",
    "model = YOLOE(\"yoloe-11l-seg.pt\")\n",
    "\n",
    "names = [\"hat\", \"vest\", \"ppe\"]\n",
    "model.set_classes(names, model.get_text_pe(names))\n",
    "\n",
    "export_model = model.export(format=\"onnx\")\n",
    "model = YOLOE(export_model)"
   ]
  },
  {
   "cell_type": "code",
   "execution_count": 14,
   "id": "bed8e04f",
   "metadata": {},
   "outputs": [],
   "source": [
    "if False:\n",
    "  from roboflow import Roboflow\n",
    "  rf = Roboflow(api_key=roboflow_key)\n",
    "  project = rf.workspace(\"new-workspace-w7psa\").project(\"construction-site\")\n",
    "  version = project.version(1)\n",
    "  dataset = version.download(\"yolov11\")"
   ]
  },
  {
   "cell_type": "code",
   "execution_count": 17,
   "id": "38b163eb",
   "metadata": {},
   "outputs": [
    {
     "name": "stdout",
     "output_type": "stream",
     "text": [
      "Loading yoloe-11l-seg.onnx for ONNX Runtime inference...\n",
      "Using ONNX Runtime CPUExecutionProvider\n",
      "\n",
      "image 1/1 /Users/rvolkov/Documents/projects/ppe_vision/Construction-Site--1/test/images/5.rf.d438212ca09c1532b54a8f8a25ebcb12.jpg: 640x640 3 hats, 1299.0ms\n",
      "Speed: 4.7ms preprocess, 1299.0ms inference, 15.6ms postprocess per image at shape (1, 3, 640, 640)\n"
     ]
    }
   ],
   "source": [
    "results = model.predict(\"/Users/rvolkov/Documents/projects/ppe_vision/Construction-Site--1/test/images/5.rf.d438212ca09c1532b54a8f8a25ebcb12.jpg\")\n",
    "\n",
    "results[0].show()"
   ]
  },
  {
   "cell_type": "code",
   "execution_count": null,
   "id": "a7f8658e",
   "metadata": {},
   "outputs": [],
   "source": []
  }
 ],
 "metadata": {
  "kernelspec": {
   "display_name": "yoloe",
   "language": "python",
   "name": "python3"
  },
  "language_info": {
   "codemirror_mode": {
    "name": "ipython",
    "version": 3
   },
   "file_extension": ".py",
   "mimetype": "text/x-python",
   "name": "python",
   "nbconvert_exporter": "python",
   "pygments_lexer": "ipython3",
   "version": "3.11.13"
  }
 },
 "nbformat": 4,
 "nbformat_minor": 5
}
